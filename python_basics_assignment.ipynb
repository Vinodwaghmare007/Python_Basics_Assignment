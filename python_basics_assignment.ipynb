{
  "nbformat": 4,
  "nbformat_minor": 0,
  "metadata": {
    "colab": {
      "provenance": []
    },
    "kernelspec": {
      "name": "python3",
      "display_name": "Python 3"
    },
    "language_info": {
      "name": "python"
    }
  },
  "cells": [
    {
      "cell_type": "code",
      "execution_count": null,
      "metadata": {
        "id": "PUdWw9J2tF8K"
      },
      "outputs": [],
      "source": [
        "## Python Basics Assignment"
      ]
    },
    {
      "cell_type": "markdown",
      "source": [
        "**Q.1  What is Python, and why is it popular**\n",
        "\n",
        "  - Python is a general-purpose programming language that's popular because it's versatile, flexible, and beginner-friendly. It's used for a wide range of applications\n",
        "\n",
        "    -  1. Python is easy to learn\n",
        "    -  2. Python has an active, supportive community ·\n",
        "    -  3. Python is flexible\n",
        "    -  4. Python is the most popular yet easiest programming language to learn.\n",
        "    -  5. You can use Python to visualize data in bar and line graphs, histograms, and pie charts. Besides\n",
        "          "
      ],
      "metadata": {
        "id": "3_80CxxVtrQ6"
      }
    },
    {
      "cell_type": "markdown",
      "source": [
        "**Q.2 What is an interpreter in Python?**\n",
        "\n",
        "  - A Python interpreter is a computer program that translates Python code into machine code so that a computer can understand it\n"
      ],
      "metadata": {
        "id": "4aUQEqG1tqS4"
      }
    },
    {
      "cell_type": "markdown",
      "source": [
        "**Q.3 What are pre-defined keywords in Python?**\n",
        "\n",
        "  - Pre-defined keywords in Python are special words that have a specific meaning and are reserved for use in Python programs\n",
        "\n",
        "  - Here is a list of keywords in Python:\n",
        "\n",
        "    **Keyword\tDescription**\n",
        "\n",
        "-   **False**\tRepresents the boolean value false.\n",
        "\n",
        "  **None**\tRepresents a null value or no value at all.\n",
        "\n",
        "  **True**\tRepresents the boolean value true.\n",
        "\n",
        "  **and**\tLogical operators are used to combine conditional statements.\n",
        "\n",
        "  **as**\tUsed to create an alias while importing a module.\n",
        "\n",
        "  **break**\tTerminates the loop prematurely.\n",
        "\n",
        "  **class**\tUsed to define a class.\n",
        "\n",
        "  **continue**\tSkips the rest of the code inside a loop for the current\n",
        "  iteration and proceeds to the next iteration.\n",
        "\n",
        "  **def**\tUsed to define a function.\n",
        "\n",
        "  **del**\tDeletes objects like variables, lists, or dictionary elements.\n",
        "\n",
        "  **elif**\tUsed for conditional branching (else if).\n",
        "\n",
        "  **else**\tSpecifies a block of code to execute if the condition in if or elif is false.\n",
        "\n",
        "  **except**\tUsed to catch exceptions in a try block.\n",
        "  finally\tA block of code that will be executed regardless of an exception occurring or not.\n",
        "\n",
        "  **for**\tUsed for looping over an iterable.\n",
        "\n",
        "  **from**\tSpecifies the module to import specific parts from.\n",
        "\n",
        "  **if**\tUsed for conditional branching.\n",
        "\n",
        "  **import**\tUsed to import modules.\n",
        "\n",
        "  **in**\tCheck if an element is present in a sequence.\n",
        "\n",
        "  **is**\tTests for object identity.\n",
        "\n",
        "  **pass**\tA null operation, is used as a placeholder.\n",
        "\n",
        "  **raise**\tUsed to raise an exception.\n",
        "\n",
        "  **return**\tExits a function and optionally passes back a value.\n",
        "\n",
        "  **try**\tStarts a block of code to test for exceptions.\n",
        "\n",
        "  **while**\tUsed to create loops that continue while a condition is true.\n",
        "\n",
        "  **with**\tUsed to simplify exception handling and resource management.\n"
      ],
      "metadata": {
        "id": "cVHDaHoMwUCF"
      }
    },
    {
      "cell_type": "markdown",
      "source": [
        "**Q.4 Can keywords be used as variable names?**\n",
        "  \n",
        "  - keywords cannot be used as variable names because they are reserved words\n",
        "  with special meanings and purposes in a programming language"
      ],
      "metadata": {
        "id": "YOYTGeU7zF5J"
      }
    },
    {
      "cell_type": "markdown",
      "source": [
        "**Q.5 What is mutability in Python?**\n",
        "\n",
        "  - In Python, mutability refers to the ability to change an object's value after it has been created"
      ],
      "metadata": {
        "id": "37EGIneVzZHw"
      }
    },
    {
      "cell_type": "markdown",
      "source": [
        "**Q.6 Why are lists mutable, but tuples are immutable?**\n",
        "\n",
        "  - The main difference between tuples and lists is that tuples are immutable, meaning their contents cannot be changed after creation, while lists are mutable and can be modified. Additionally, tuples are more memory-efficient compared to lists. Tuples can't be changed after they're created, but lists can be modified."
      ],
      "metadata": {
        "id": "-3-itak90A2m"
      }
    },
    {
      "cell_type": "markdown",
      "source": [
        "**Q.7 What is the difference between “==” and “is” operators in Python?**\n",
        "\n",
        "  - The main difference between the == and is operators in Python is that == compares the equality of objects, while is compares their identity"
      ],
      "metadata": {
        "id": "IdUi5a2s1UdY"
      }
    },
    {
      "cell_type": "markdown",
      "source": [
        "**Q.8 What are logical operators in Python?**\n",
        "\n",
        "  - In Python, logical operators are symbols or words that combine multiple conditions into a single boolean expression:\n",
        "\n",
        "  - and : Returns True if both conditions are true, and False otherwise\n",
        "  \n",
        "  - or  : Returns True if one of the conditions is true\n",
        "  \n",
        "  - not : Reverses the result, returning False if the result is true"
      ],
      "metadata": {
        "id": "_TJZ2hgL7XFX"
      }
    },
    {
      "cell_type": "markdown",
      "source": [
        "**Q.9 What is type casting in Python?**\n",
        "\n",
        "  - Type casting in Python is the process of converting a variable's data type to another data type. It's also known as type conversion."
      ],
      "metadata": {
        "id": "zACrDhxr8jgV"
      }
    },
    {
      "cell_type": "markdown",
      "source": [
        "**Q.10 What is the difference between implicit and explicit type casting?**\n",
        "\n",
        "  - The main difference between implicit and explicit type casting is that implicit type casting is automatic, while explicit type casting is manual"
      ],
      "metadata": {
        "id": "mMIM9Td088vP"
      }
    },
    {
      "cell_type": "markdown",
      "source": [
        "**Q.11 What is the purpose of conditional statements in Python?**\n",
        "\n",
        "  - The purpose of conditional statements in Python is to control the flow of a program by making decisions based on certain conditions. Conditional statements are also known as decision making statements."
      ],
      "metadata": {
        "id": "JV6VP3kM94t0"
      }
    },
    {
      "cell_type": "markdown",
      "source": [
        "**Q.12 How does the elif statement work?**\n",
        "\n",
        "  - The “elif” keyword in Python, stands for “else if”. It can be used in conditional statements to check for multiple conditions. For example, if the first condition is false, it moves on to the next “elif” statement to check if that condition is true."
      ],
      "metadata": {
        "id": "3Jwe6zUPXWgo"
      }
    },
    {
      "cell_type": "markdown",
      "source": [
        "**Q.13 What is the difference between for and while loops?**\n",
        "\n",
        "  - The main difference between a for loop and a while loop is that a for loop is used when the number of iterations is known in advance, while a while loop is used when the number of iterations is unknown."
      ],
      "metadata": {
        "id": "gQQuU4B7XzqP"
      }
    },
    {
      "cell_type": "markdown",
      "source": [
        "**Q.14 Describe a scenario where a while loop is more suitable than a for loop?**\n",
        "\n",
        "  - In general, you should use a for loop when you know how many times the loop should run. If you want the loop to break based on a condition other than the number of times it runs, you should use a while loop."
      ],
      "metadata": {
        "id": "ETKLc71MYH5H"
      }
    },
    {
      "cell_type": "markdown",
      "source": [
        "**Practical** **Questions**"
      ],
      "metadata": {
        "id": "ilblSd4bZxEB"
      }
    },
    {
      "cell_type": "code",
      "source": [
        "# Q.1 Write a Python program to print \"Hello, World!\n",
        ">>>\n",
        "print(\"Hello World\")"
      ],
      "metadata": {
        "colab": {
          "base_uri": "https://localhost:8080/"
        },
        "id": "FFE7A73BZmrs",
        "outputId": "5778e2c1-7ae7-4388-e5e9-4e16ffa51279"
      },
      "execution_count": null,
      "outputs": [
        {
          "output_type": "stream",
          "name": "stdout",
          "text": [
            "Hello World\n"
          ]
        }
      ]
    },
    {
      "cell_type": "code",
      "source": [
        "# Q.2 Write a Python program that displays your name and age\n",
        ">>>\n",
        "age = input(\"Enter your age: \")\n",
        "name = input(\"Enter your name: \")\n",
        "\n",
        "print(\"Hi, my name is \" + name + \" and I am \" + age + \" years old.\")"
      ],
      "metadata": {
        "colab": {
          "base_uri": "https://localhost:8080/"
        },
        "id": "NiD4ncrtZsR3",
        "outputId": "0fb0cd68-ea9f-4386-c1e1-76945c8e3674"
      },
      "execution_count": null,
      "outputs": [
        {
          "output_type": "stream",
          "name": "stdout",
          "text": [
            "Enter your age: 35\n",
            "Enter your name: Vinod\n",
            "Hi, my name is Vinod and I am 35 years old.\n"
          ]
        }
      ]
    },
    {
      "cell_type": "code",
      "source": [
        "#Q. 3 Write code to print all the pre-defined keywords in Python using the keyword library\n",
        "\n",
        "import keyword\n",
        "\n",
        "keyword.kwlist\n"
      ],
      "metadata": {
        "id": "FkbpsBG7bhJt",
        "colab": {
          "base_uri": "https://localhost:8080/"
        },
        "outputId": "d8f4578b-0e29-4673-d752-7aa0b399d4f6"
      },
      "execution_count": 26,
      "outputs": [
        {
          "output_type": "execute_result",
          "data": {
            "text/plain": [
              "['False',\n",
              " 'None',\n",
              " 'True',\n",
              " 'and',\n",
              " 'as',\n",
              " 'assert',\n",
              " 'async',\n",
              " 'await',\n",
              " 'break',\n",
              " 'class',\n",
              " 'continue',\n",
              " 'def',\n",
              " 'del',\n",
              " 'elif',\n",
              " 'else',\n",
              " 'except',\n",
              " 'finally',\n",
              " 'for',\n",
              " 'from',\n",
              " 'global',\n",
              " 'if',\n",
              " 'import',\n",
              " 'in',\n",
              " 'is',\n",
              " 'lambda',\n",
              " 'nonlocal',\n",
              " 'not',\n",
              " 'or',\n",
              " 'pass',\n",
              " 'raise',\n",
              " 'return',\n",
              " 'try',\n",
              " 'while',\n",
              " 'with',\n",
              " 'yield']"
            ]
          },
          "metadata": {},
          "execution_count": 26
        }
      ]
    },
    {
      "cell_type": "code",
      "source": [
        "# Q.4 Write a program that checks if a given word is a Python keyword0\n",
        ">>>\n",
        "import keyword\n",
        "keys = [\"for\", \"geeksforgeeks\", \"elif\", \"elseif\", \"nikhil\",\n",
        "        \"assert\", \"shambhavi\", \"True\", \"False\", \"akshat\",\n",
        "        \"akash\", \"break\", \"ashty\", \"lambda\", \"suman\",\n",
        "        \"try\", \"vaishnavi\"]\n",
        "\n",
        "for i in range(len(keys)):\n",
        "    if keyword.iskeyword(keys[i]):\n",
        "        print(keys[i] + \" is python keyword\")\n",
        "    else:\n",
        "        print(keys[i] + \" is not a python keyword\")"
      ],
      "metadata": {
        "colab": {
          "base_uri": "https://localhost:8080/"
        },
        "id": "qgM7Mvk4bg-F",
        "outputId": "6f450bbe-b126-4ce6-e368-d1d3aac09a62"
      },
      "execution_count": null,
      "outputs": [
        {
          "output_type": "stream",
          "name": "stdout",
          "text": [
            "for is python keyword\n",
            "geeksforgeeks is not a python keyword\n",
            "elif is python keyword\n",
            "elseif is not a python keyword\n",
            "nikhil is not a python keyword\n",
            "assert is python keyword\n",
            "shambhavi is not a python keyword\n",
            "True is python keyword\n",
            "False is python keyword\n",
            "akshat is not a python keyword\n",
            "akash is not a python keyword\n",
            "break is python keyword\n",
            "ashty is not a python keyword\n",
            "lambda is python keyword\n",
            "suman is not a python keyword\n",
            "try is python keyword\n",
            "vaishnavi is not a python keyword\n"
          ]
        }
      ]
    },
    {
      "cell_type": "code",
      "source": [
        "# Q.5 Create a list and tuple in Python, and demonstrate how attempting to change an element works differently for each\n",
        "\n",
        "#Ans 5\n",
        "\n",
        "List_num = [1,2,3,\"vinod\",\"Arnav\",35.5,3.5]\n",
        "tup_num = (\"vinod\", \"Arnav\",\"Priti\")\n",
        "\n",
        "print(List_num)\n",
        "print(tup_num)\n",
        "\n",
        "type(List_num)\n",
        "type(tup_num)\n",
        "\n",
        "\n"
      ],
      "metadata": {
        "id": "okGtZSqtbgzR",
        "colab": {
          "base_uri": "https://localhost:8080/"
        },
        "outputId": "96b02d90-ac17-49f8-e40c-f80205c23381"
      },
      "execution_count": null,
      "outputs": [
        {
          "output_type": "stream",
          "name": "stdout",
          "text": [
            "[1, 2, 3, 'vinod', 'Arnav', 35.5, 3.5]\n",
            "('vinod', 'Arnav', 'Priti')\n"
          ]
        },
        {
          "output_type": "execute_result",
          "data": {
            "text/plain": [
              "tuple"
            ]
          },
          "metadata": {},
          "execution_count": 14
        }
      ]
    },
    {
      "cell_type": "code",
      "source": [
        "#Q 5\n",
        "\n",
        "List_num[2] = 5\n",
        "print(List_num)\n"
      ],
      "metadata": {
        "id": "KWjWa-gpbgpr",
        "colab": {
          "base_uri": "https://localhost:8080/"
        },
        "outputId": "fbddd3b1-86f6-43e2-9121-766967656242"
      },
      "execution_count": null,
      "outputs": [
        {
          "output_type": "stream",
          "name": "stdout",
          "text": [
            "[1, 2, 5, 'vinod', 'Arnav', 35.5, 3.5]\n"
          ]
        }
      ]
    },
    {
      "cell_type": "code",
      "source": [
        "tup_num(2) = 5\n",
        "print(tup_num)"
      ],
      "metadata": {
        "id": "HEV1oge1bgbm",
        "colab": {
          "base_uri": "https://localhost:8080/",
          "height": 110
        },
        "outputId": "a1ff0904-8c6f-4fac-9178-b26293157fb8"
      },
      "execution_count": null,
      "outputs": [
        {
          "output_type": "error",
          "ename": "SyntaxError",
          "evalue": "cannot assign to function call here. Maybe you meant '==' instead of '='? (<ipython-input-16-8b4186be1845>, line 1)",
          "traceback": [
            "\u001b[0;36m  File \u001b[0;32m\"<ipython-input-16-8b4186be1845>\"\u001b[0;36m, line \u001b[0;32m1\u001b[0m\n\u001b[0;31m    tup_num(2) = 5\u001b[0m\n\u001b[0m    ^\u001b[0m\n\u001b[0;31mSyntaxError\u001b[0m\u001b[0;31m:\u001b[0m cannot assign to function call here. Maybe you meant '==' instead of '='?\n"
          ]
        }
      ]
    },
    {
      "cell_type": "code",
      "source": [
        "#Q.6 Write a function to demonstrate the behavior of mutable and immutable arguments?\n",
        "\n",
        "#mutable\n",
        "#Yes, Lists are mutable in Python. We can add or remove elements from the list. In Python, mutability refers to the capability of an object to be changed or modified after its creation\n",
        "my_list = [1, 2, 3]\n",
        "my_list.append(4)\n",
        "print(my_list)\n",
        "\n",
        "my_list.insert(1, 5)\n",
        "print(my_list)\n",
        "\n",
        "my_list.remove(2)\n",
        "print(my_list)\n",
        "\n",
        "popped_element = my_list.pop(0)\n",
        "print(my_list)\n",
        "print(popped_element)"
      ],
      "metadata": {
        "id": "Laos--L0bgMf",
        "colab": {
          "base_uri": "https://localhost:8080/"
        },
        "outputId": "b8ce5db4-768c-429e-ce31-377253abae34"
      },
      "execution_count": 1,
      "outputs": [
        {
          "output_type": "stream",
          "name": "stdout",
          "text": [
            "[1, 2, 3, 4]\n",
            "[1, 5, 2, 3, 4]\n",
            "[1, 5, 3, 4]\n",
            "[5, 3, 4]\n",
            "1\n"
          ]
        }
      ]
    },
    {
      "cell_type": "code",
      "source": [
        "#Here is an example of dictionary that are mutable i.e., we can make changes in the Dictionary.\n",
        "my_dict = {\"name\": \"Ram\", \"age\": 25}\n",
        "new_dict = my_dict\n",
        "print(my_dict)\n",
        "new_dict[\"age\"] = 37\n",
        "print(new_dict)"
      ],
      "metadata": {
        "colab": {
          "base_uri": "https://localhost:8080/"
        },
        "id": "QfqrJvQzNBhA",
        "outputId": "39f75216-0561-4c6b-bbcf-52fd284da97c"
      },
      "execution_count": 5,
      "outputs": [
        {
          "output_type": "stream",
          "name": "stdout",
          "text": [
            "{'name': 'Ram', 'age': 25}\n",
            "{'name': 'Ram', 'age': 37}\n"
          ]
        }
      ]
    },
    {
      "cell_type": "code",
      "source": [
        "#Here is an example of Set that are mutable i.e., we can make changes in the set.\n",
        "my_set = {1, 2, 3}\n",
        "new_set = my_set\n",
        "print(my_set)\n",
        "new_set.add(4)\n",
        "print(new_set)"
      ],
      "metadata": {
        "colab": {
          "base_uri": "https://localhost:8080/"
        },
        "id": "7t_RXp6wNb81",
        "outputId": "54860911-3c47-4290-bf9a-febd70b62b92"
      },
      "execution_count": 7,
      "outputs": [
        {
          "output_type": "stream",
          "name": "stdout",
          "text": [
            "{1, 2, 3}\n",
            "{1, 2, 3, 4}\n"
          ]
        }
      ]
    },
    {
      "cell_type": "code",
      "source": [
        "# immutable\n",
        "# tuples are immutable\n",
        "# Immutable Objects are of in-built datatypes like int, float, bool, string, Unicode, and tuple. In simple words, an immutable object can’t be changed after it is created.\n",
        "\n",
        "tuple1 = (0, 1, 2, 3)\n",
        "tuple1[0] = 4\n",
        "print(tuple1)"
      ],
      "metadata": {
        "colab": {
          "base_uri": "https://localhost:8080/",
          "height": 193
        },
        "id": "Ny0VVyITMOoH",
        "outputId": "20674785-db3a-4b0a-faab-57dee18a4b34"
      },
      "execution_count": 2,
      "outputs": [
        {
          "output_type": "error",
          "ename": "TypeError",
          "evalue": "'tuple' object does not support item assignment",
          "traceback": [
            "\u001b[0;31m---------------------------------------------------------------------------\u001b[0m",
            "\u001b[0;31mTypeError\u001b[0m                                 Traceback (most recent call last)",
            "\u001b[0;32m<ipython-input-2-43370402550b>\u001b[0m in \u001b[0;36m<cell line: 5>\u001b[0;34m()\u001b[0m\n\u001b[1;32m      3\u001b[0m \u001b[0;34m\u001b[0m\u001b[0m\n\u001b[1;32m      4\u001b[0m \u001b[0mtuple1\u001b[0m \u001b[0;34m=\u001b[0m \u001b[0;34m(\u001b[0m\u001b[0;36m0\u001b[0m\u001b[0;34m,\u001b[0m \u001b[0;36m1\u001b[0m\u001b[0;34m,\u001b[0m \u001b[0;36m2\u001b[0m\u001b[0;34m,\u001b[0m \u001b[0;36m3\u001b[0m\u001b[0;34m)\u001b[0m\u001b[0;34m\u001b[0m\u001b[0;34m\u001b[0m\u001b[0m\n\u001b[0;32m----> 5\u001b[0;31m \u001b[0mtuple1\u001b[0m\u001b[0;34m[\u001b[0m\u001b[0;36m0\u001b[0m\u001b[0;34m]\u001b[0m \u001b[0;34m=\u001b[0m \u001b[0;36m4\u001b[0m\u001b[0;34m\u001b[0m\u001b[0;34m\u001b[0m\u001b[0m\n\u001b[0m\u001b[1;32m      6\u001b[0m \u001b[0mprint\u001b[0m\u001b[0;34m(\u001b[0m\u001b[0mtuple1\u001b[0m\u001b[0;34m)\u001b[0m\u001b[0;34m\u001b[0m\u001b[0;34m\u001b[0m\u001b[0m\n",
            "\u001b[0;31mTypeError\u001b[0m: 'tuple' object does not support item assignment"
          ]
        }
      ]
    },
    {
      "cell_type": "code",
      "source": [
        "# strings are immutable\n",
        "\n",
        "message = \"Welcome to GeeksforGeeks\"\n",
        "message[0] = 'p'\n",
        "print(message)"
      ],
      "metadata": {
        "id": "YOS5lccKMOkG"
      },
      "execution_count": null,
      "outputs": []
    },
    {
      "cell_type": "code",
      "source": [
        "# Q. 7 Write a function to demonstrate the behavior of mutable and immutable arguments?\n",
        "\n",
        "same question as above"
      ],
      "metadata": {
        "id": "G24tQhGGNxup"
      },
      "execution_count": null,
      "outputs": []
    },
    {
      "cell_type": "code",
      "source": [
        "#Q. 8 Write a program to demonstrate the use of logical operators?\n",
        "\n",
        "\"\"\"Logical operators allow to define complex conditions based on Boolean values,\n",
        "making it easier to write robust and efficient code. Logical operators are symbols\n",
        "or keywords that are used to alter Boolean values and produce a Boolean result.\n",
        " Python has three logical operators: and, or, and not.\"\"\"\n",
        "\n",
        " #AND operator returns True only if both of its operands are true; otherwise, it returns False.\n",
        " #It is often used to check multiple conditions simultaneously.\n",
        "x = True\n",
        "y = False\n",
        "\n",
        "result = x & y\n",
        "print(result)"
      ],
      "metadata": {
        "colab": {
          "base_uri": "https://localhost:8080/"
        },
        "id": "rHK_7-stOCUw",
        "outputId": "c3e486c8-7f15-453f-d548-ab5353c6f769"
      },
      "execution_count": 10,
      "outputs": [
        {
          "output_type": "stream",
          "name": "stdout",
          "text": [
            "False\n"
          ]
        }
      ]
    },
    {
      "cell_type": "code",
      "source": [
        "#The OR operator returns True if at least one of its operands is true; otherwise,\n",
        "# it returns False. It provides a flexible way to handle situations where multiple conditions may lead to the same outcome\n",
        "a = True\n",
        "b = False\n",
        "\n",
        "result = a or b\n",
        "print(result)"
      ],
      "metadata": {
        "colab": {
          "base_uri": "https://localhost:8080/"
        },
        "id": "CYr35AdiTV4r",
        "outputId": "0969f51e-4061-4570-cb4a-07b940fe853e"
      },
      "execution_count": 11,
      "outputs": [
        {
          "output_type": "stream",
          "name": "stdout",
          "text": [
            "True\n"
          ]
        }
      ]
    },
    {
      "cell_type": "code",
      "source": [
        "# not operator is a unary operator that returns the opposite Boolean value of its operand.\n",
        "#If the operand is True, not returns False, and vice versa.\n",
        "\n",
        "z = True\n",
        "\n",
        "result = not z\n",
        "print(result)"
      ],
      "metadata": {
        "colab": {
          "base_uri": "https://localhost:8080/"
        },
        "id": "uAHXu_WWTVvh",
        "outputId": "2267701d-c616-4b6a-b471-23aad4582bb3"
      },
      "execution_count": 12,
      "outputs": [
        {
          "output_type": "stream",
          "name": "stdout",
          "text": [
            "False\n"
          ]
        }
      ]
    },
    {
      "cell_type": "code",
      "source": [
        "#exmples of logical operators\n",
        "age = 25\n",
        "if age >= 18 and age <= 65:\n",
        "  print(\"you are eligible to work\")\n",
        "else:\n",
        "  print (\"you are not eligible to work\")"
      ],
      "metadata": {
        "colab": {
          "base_uri": "https://localhost:8080/"
        },
        "id": "X0-BqlFjTVkg",
        "outputId": "d4afb9aa-e1a6-4b19-ded8-d6dfbe0236f5"
      },
      "execution_count": 13,
      "outputs": [
        {
          "output_type": "stream",
          "name": "stdout",
          "text": [
            "you are eligible to work\n"
          ]
        }
      ]
    },
    {
      "cell_type": "code",
      "source": [
        "# Q. 9 Write a Python program to convert user input from string to integer, float, and boolean types?\n",
        "\n",
        "num = int(input(\"enter your number -\"))\n",
        "print(num)\n",
        "type(num)"
      ],
      "metadata": {
        "colab": {
          "base_uri": "https://localhost:8080/"
        },
        "id": "GmP8FOOVTVhL",
        "outputId": "287fe666-40fd-40af-e073-729dbcf1614d"
      },
      "execution_count": 18,
      "outputs": [
        {
          "output_type": "stream",
          "name": "stdout",
          "text": [
            "enter your number -123\n",
            "123\n"
          ]
        },
        {
          "output_type": "execute_result",
          "data": {
            "text/plain": [
              "int"
            ]
          },
          "metadata": {},
          "execution_count": 18
        }
      ]
    },
    {
      "cell_type": "code",
      "source": [
        "num1 = float(input(\"enter your number -\"))\n",
        "print(num1)\n",
        "type(num1)\n"
      ],
      "metadata": {
        "colab": {
          "base_uri": "https://localhost:8080/"
        },
        "id": "xdwodh1LXDyV",
        "outputId": "5b786dc0-a622-4e8f-cc08-d8857d5b5f52"
      },
      "execution_count": 19,
      "outputs": [
        {
          "output_type": "stream",
          "name": "stdout",
          "text": [
            "enter your number -456\n",
            "456.0\n"
          ]
        },
        {
          "output_type": "execute_result",
          "data": {
            "text/plain": [
              "float"
            ]
          },
          "metadata": {},
          "execution_count": 19
        }
      ]
    },
    {
      "cell_type": "code",
      "source": [
        "num2 = bool(input(\"enter your number -\"))\n",
        "print(num2)\n",
        "type(num2)"
      ],
      "metadata": {
        "colab": {
          "base_uri": "https://localhost:8080/"
        },
        "id": "rYv7YoUEXDuv",
        "outputId": "9549c1a6-b7ad-4493-cef0-b02c356da33a"
      },
      "execution_count": 20,
      "outputs": [
        {
          "output_type": "stream",
          "name": "stdout",
          "text": [
            "enter your number -789\n",
            "True\n"
          ]
        },
        {
          "output_type": "execute_result",
          "data": {
            "text/plain": [
              "bool"
            ]
          },
          "metadata": {},
          "execution_count": 20
        }
      ]
    },
    {
      "cell_type": "code",
      "source": [
        "#Q.10 Write code to demonstrate type casting with list elements0\n",
        "\n",
        "# Sample list with different data types\n",
        "mixed_list = [10, 20.5, \"30\", True, \"40.7\"]\n",
        "\n",
        "# Type casting list elements\n",
        "int_list = []\n",
        "float_list = []\n",
        "str_list = []\n",
        "bool_list = []\n",
        "\n",
        "for element in mixed_list:\n",
        "    try:\n",
        "        int_list.append(int(element))\n",
        "    except (ValueError, TypeError):\n",
        "        print(f\"Cannot convert {element} to integer.\")\n",
        "\n",
        "    try:\n",
        "      float_list.append(float(element))\n",
        "    except (ValueError, TypeError):\n",
        "      print(f\"Cannot convert {element} to float.\")\n",
        "\n",
        "    try:\n",
        "      str_list.append(str(element))\n",
        "    except (ValueError, TypeError):\n",
        "      print(f\"Cannot convert {element} to string\")\n",
        "\n",
        "    try:\n",
        "        bool_list.append(bool(element))\n",
        "    except (ValueError, TypeError):\n",
        "        print(f\"Cannot convert {element} to boolean.\")\n",
        "\n",
        "\n",
        "print(\"Integer List:\", int_list)\n",
        "print(\"Float List:\", float_list)\n",
        "print(\"String List:\", str_list)\n",
        "print(\"Boolean List:\", bool_list)"
      ],
      "metadata": {
        "colab": {
          "base_uri": "https://localhost:8080/"
        },
        "id": "KXy924a8XZMT",
        "outputId": "8286f808-3e07-4944-9831-c54122c2b791"
      },
      "execution_count": 23,
      "outputs": [
        {
          "output_type": "stream",
          "name": "stdout",
          "text": [
            "Cannot convert 40.7 to integer.\n",
            "Integer List: [10, 20, 30, 1]\n",
            "Float List: [10.0, 20.5, 30.0, 1.0, 40.7]\n",
            "String List: ['10', '20.5', '30', 'True', '40.7']\n",
            "Boolean List: [True, True, True, True, True]\n"
          ]
        }
      ]
    },
    {
      "cell_type": "code",
      "source": [
        "#Q.11 Write a program that checks if a number is positive, negative, or zero\n",
        "\n",
        "def check_number(number):\n",
        "  if number > 0:\n",
        "    print(\"Positive\")\n",
        "  elif number < 0:\n",
        "    print(\"Negative\")\n",
        "  else:\n",
        "    print(\"Zero\")\n",
        "\n",
        "# Example usage\n",
        "check_number(5)  # Output: Positive\n",
        "check_number(-3) # Output: Negative\n",
        "check_number(0)  # Output: Zero"
      ],
      "metadata": {
        "colab": {
          "base_uri": "https://localhost:8080/"
        },
        "id": "-KjzSYnYXaF0",
        "outputId": "99db1e09-3302-4deb-ce92-c8ab826f95a1"
      },
      "execution_count": 25,
      "outputs": [
        {
          "output_type": "stream",
          "name": "stdout",
          "text": [
            "Positive\n",
            "Negative\n",
            "Zero\n"
          ]
        }
      ]
    },
    {
      "cell_type": "code",
      "source": [
        "# Q.12  Write a for loop to print numbers from 1 to 10\n",
        "\n",
        "for i in range(1, 10):\n",
        "  print(i)"
      ],
      "metadata": {
        "colab": {
          "base_uri": "https://localhost:8080/"
        },
        "id": "udohPXgFXaCr",
        "outputId": "d55e7f77-6143-499f-fca8-f6d651df39b4"
      },
      "execution_count": 30,
      "outputs": [
        {
          "output_type": "stream",
          "name": "stdout",
          "text": [
            "1\n",
            "2\n",
            "3\n",
            "4\n",
            "5\n",
            "6\n",
            "7\n",
            "8\n",
            "9\n"
          ]
        }
      ]
    },
    {
      "cell_type": "code",
      "source": [
        "# Q.13 Write a Python program to find the sum of all even numbers between 1 and 50\n",
        "\n",
        "sum_of_evens = 0\n",
        "for i in range(2, 51, 2):\n",
        "  sum_of_evens += i\n",
        "print(\"Sum of even numbers between 1 and 50:\", sum_of_evens)"
      ],
      "metadata": {
        "colab": {
          "base_uri": "https://localhost:8080/"
        },
        "id": "ktwrEm75XZ_x",
        "outputId": "9972d0fa-4684-4567-f1f5-38332caa4d8c"
      },
      "execution_count": 31,
      "outputs": [
        {
          "output_type": "stream",
          "name": "stdout",
          "text": [
            "Sum of even numbers between 1 and 50: 650\n"
          ]
        }
      ]
    },
    {
      "cell_type": "code",
      "source": [
        "#Q.14 Write a program to reverse a string using a while loop\n",
        "\n",
        "def reverse_string(input_string):\n",
        "    reversed_string = \"\"\n",
        "    index = len(input_string) - 1\n",
        "    while index >= 0:\n",
        "        reversed_string += input_string[index]\n",
        "        index -= 1\n",
        "    return reversed_string\n",
        "\n",
        "# Example usage\n",
        "string_to_reverse = \"hello\"\n",
        "reversed_string = reverse_string(string_to_reverse)\n",
        "print(f\"Reversed string: {reversed_string}\")"
      ],
      "metadata": {
        "colab": {
          "base_uri": "https://localhost:8080/"
        },
        "id": "Us2k_W84XZKC",
        "outputId": "193b7806-3dfa-488c-d6fd-ddff50284d0c"
      },
      "execution_count": 35,
      "outputs": [
        {
          "output_type": "stream",
          "name": "stdout",
          "text": [
            "Reversed string: olleh\n"
          ]
        }
      ]
    },
    {
      "cell_type": "code",
      "source": [
        "\n",
        "#Q.15 Write a Python program to calculate the factorial of a number provided by the user using a while loop\n",
        "def factorial(n):\n",
        "    \"\"\"\n",
        "    Calculate the factorial of a non-negative integer using a while loop.\n",
        "    \"\"\"\n",
        "    if n < 0:\n",
        "        return \"Factorial is not defined for negative numbers\"\n",
        "    elif n == 0:\n",
        "        return 1\n",
        "    else:\n",
        "        fact = 1\n",
        "        i = 1\n",
        "        while i <= n:\n",
        "            fact *= i\n",
        "            i += 1\n",
        "        return fact\n",
        "\n",
        "# Get user input\n",
        "try:\n",
        "    num = int(input(\"Enter a non-negative integer: \"))\n",
        "    result = factorial(num)\n",
        "    print(f\"The factorial of {num} is {result}\")\n",
        "except ValueError:\n",
        "    print(\"Invalid input. Please enter an integer.\")"
      ],
      "metadata": {
        "colab": {
          "base_uri": "https://localhost:8080/"
        },
        "id": "adOGXDBsXZE8",
        "outputId": "fab9350f-d260-4fc3-abdb-39f5b8753fa9"
      },
      "execution_count": 38,
      "outputs": [
        {
          "output_type": "stream",
          "name": "stdout",
          "text": [
            "Enter a non-negative integer: 5\n",
            "The factorial of 5 is 120\n"
          ]
        }
      ]
    },
    {
      "cell_type": "markdown",
      "source": [],
      "metadata": {
        "id": "6w6ebeHlaHra"
      }
    },
    {
      "cell_type": "markdown",
      "source": [],
      "metadata": {
        "id": "_HrboV81aHYL"
      }
    }
  ]
}